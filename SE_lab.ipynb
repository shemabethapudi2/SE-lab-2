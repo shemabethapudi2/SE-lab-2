{
  "nbformat": 4,
  "nbformat_minor": 0,
  "metadata": {
    "colab": {
      "provenance": [],
      "authorship_tag": "ABX9TyN3vblM9y7ARpn7XSXv+g2S",
      "include_colab_link": true
    },
    "kernelspec": {
      "name": "python3",
      "display_name": "Python 3"
    },
    "language_info": {
      "name": "python"
    }
  },
  "cells": [
    {
      "cell_type": "markdown",
      "metadata": {
        "id": "view-in-github",
        "colab_type": "text"
      },
      "source": [
        "<a href=\"https://colab.research.google.com/github/shemabethapudi2/SE-lab-2/blob/main/SE_lab.ipynb\" target=\"_parent\"><img src=\"https://colab.research.google.com/assets/colab-badge.svg\" alt=\"Open In Colab\"/></a>"
      ]
    },
    {
      "cell_type": "markdown",
      "source": [],
      "metadata": {
        "id": "_y9QTvcBUUOz"
      }
    },
    {
      "cell_type": "code",
      "execution_count": null,
      "metadata": {
        "id": "lL1pQcouN5yj"
      },
      "outputs": [],
      "source": [
        "#implement weather modelling using the quadratic solutions in stages: hardcoded variables, keyboard input, read from file, for a single set of input, for multiple set of inputs"
      ]
    },
    {
      "cell_type": "code",
      "source": [
        "# temperature function\n",
        "def temperature(a,b,c, time):\n",
        "    temp = a*time*time+b*time+c #corrected typo here in temp calculation : atime to a\n",
        "    return temp"
      ],
      "metadata": {
        "id": "zHC4-YFcPJBn"
      },
      "execution_count": 1,
      "outputs": []
    },
    {
      "cell_type": "code",
      "source": [
        "#hardcoded variables\n",
        "a,b,c = 0.2,4,7\n",
        "time = 5"
      ],
      "metadata": {
        "id": "ctXF3DwMQKSU"
      },
      "execution_count": 2,
      "outputs": []
    },
    {
      "cell_type": "code",
      "source": [
        "print(\"temperature from hardcoded variable is\", temperature(a, b,c, time))"
      ],
      "metadata": {
        "colab": {
          "base_uri": "https://localhost:8080/"
        },
        "id": "rUJuHwJQQQzS",
        "outputId": "f74994ff-be89-4505-f0fa-6f950817d9cc"
      },
      "execution_count": 3,
      "outputs": [
        {
          "output_type": "stream",
          "name": "stdout",
          "text": [
            "temperature from hardcoded variable is 32.0\n"
          ]
        }
      ]
    },
    {
      "cell_type": "code",
      "source": [
        "#keyboard input\n",
        "a=float(input(\"Enter the value of a: \"))\n",
        "b=float(input(\"Enter the value of b: \"))\n",
        "c=float(input(\"Enter the value of c: \"))\n",
        "time = int(input(\"Enter time: \"))"
      ],
      "metadata": {
        "colab": {
          "base_uri": "https://localhost:8080/"
        },
        "id": "R8Hvw8t_QaB7",
        "outputId": "2671ad05-6768-4329-d499-6fc8fc7d7cda"
      },
      "execution_count": 4,
      "outputs": [
        {
          "name": "stdout",
          "output_type": "stream",
          "text": [
            "Enter the value of a: 0.1\n",
            "Enter the value of b: 3\n",
            "Enter the value of c: 5\n",
            "Enter time: 5\n"
          ]
        }
      ]
    },
    {
      "cell_type": "code",
      "source": [],
      "metadata": {
        "id": "6Hn6f3gUXig8"
      },
      "execution_count": null,
      "outputs": []
    },
    {
      "cell_type": "code",
      "source": [
        "#keyboard input\n",
        "a=float(input(\"Enter the value of a: \"))\n",
        "b=float(input(\"Enter the value of b: \"))\n",
        "c=float(input(\"Enter the value of c: \"))\n",
        "time = int(input(\"Enter time: \"))"
      ],
      "metadata": {
        "colab": {
          "base_uri": "https://localhost:8080/"
        },
        "outputId": "761c245d-58c8-404b-9eba-1e689bad4b4f",
        "id": "EYEXa-t3XkVQ"
      },
      "execution_count": 25,
      "outputs": [
        {
          "name": "stdout",
          "output_type": "stream",
          "text": [
            "Enter the value of a: 8\n",
            "Enter the value of b: 9\n",
            "Enter the value of c: 8\n",
            "Enter time: 7\n"
          ]
        }
      ]
    },
    {
      "cell_type": "code",
      "source": [
        "print(\"temperature from keyboard input variable is \",temperature(a,b,c,time))"
      ],
      "metadata": {
        "colab": {
          "base_uri": "https://localhost:8080/"
        },
        "id": "Lpc7V1lHQxLt",
        "outputId": "1c1f9495-70b8-4b8b-f42f-a1b31daa6e30"
      },
      "execution_count": 27,
      "outputs": [
        {
          "output_type": "stream",
          "name": "stdout",
          "text": [
            "temperature from keyboard input variable is  463.0\n"
          ]
        }
      ]
    },
    {
      "cell_type": "code",
      "source": [
        "print(\"temperature from keyboard input variable is \",temperature(a,b,c,time))"
      ],
      "metadata": {
        "colab": {
          "base_uri": "https://localhost:8080/"
        },
        "outputId": "49090d4a-5d4a-4bee-fef9-f36d89ea1f45",
        "id": "wCfE1bOqXz32"
      },
      "execution_count": 28,
      "outputs": [
        {
          "output_type": "stream",
          "name": "stdout",
          "text": [
            "temperature from keyboard input variable is  463.0\n"
          ]
        }
      ]
    },
    {
      "cell_type": "code",
      "source": [
        "def read_from_file(input):\n",
        "  with open('input.txt','r') as file:\n",
        "    lines = file.readlines()\n",
        "  input = [tuple(map(float,line.strip().split(','))) for line in lines]\n",
        "  return input"
      ],
      "metadata": {
        "id": "d0PciEHTQ9bB"
      },
      "execution_count": 29,
      "outputs": []
    },
    {
      "cell_type": "code",
      "source": [
        "!touch /content/input.txt\n",
        "with open('/content/input.txt', 'w') as f:\n",
        "    f.write('0.4,2,5,5')"
      ],
      "metadata": {
        "id": "FkvC6gxtScm8"
      },
      "execution_count": 30,
      "outputs": []
    },
    {
      "cell_type": "code",
      "source": [
        "input_file_path = '/path/to/your/input.txt'"
      ],
      "metadata": {
        "id": "nvlpthDtSe-W"
      },
      "execution_count": 31,
      "outputs": []
    },
    {
      "cell_type": "code",
      "source": [
        "#single set of inputs\n",
        "input_data = read_from_file('/content/input.txt')  # Changed to the correct file path\n",
        "a, b, c, time = input_data[0]\n",
        "print(\"temperature from file with single input is \", temperature(a, b, c, time))"
      ],
      "metadata": {
        "colab": {
          "base_uri": "https://localhost:8080/"
        },
        "id": "BTiTiVq5TljZ",
        "outputId": "6321e90f-6615-4ce9-9ed4-dd8f6e1297a6"
      },
      "execution_count": 32,
      "outputs": [
        {
          "output_type": "stream",
          "name": "stdout",
          "text": [
            "temperature from file with single input is  25.0\n"
          ]
        }
      ]
    },
    {
      "cell_type": "code",
      "source": [
        "#multiple set of inputs\n",
        "for idx, (a,b,c,time) in enumerate(input_data): # Changed input to input_data to use data read from the file\n",
        "    print (\"temperature from file with multiple input is \", temperature(a,b,c,time)) # Indented the print statement"
      ],
      "metadata": {
        "colab": {
          "base_uri": "https://localhost:8080/"
        },
        "id": "nOCHedloWSn5",
        "outputId": "395087c1-4aad-46e5-975b-25b3861d337f"
      },
      "execution_count": 33,
      "outputs": [
        {
          "output_type": "stream",
          "name": "stdout",
          "text": [
            "temperature from file with multiple input is  25.0\n"
          ]
        }
      ]
    }
  ]
}